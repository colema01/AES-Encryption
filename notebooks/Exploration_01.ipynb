{
  "cells": [
    {
      "cell_type": "markdown",
      "metadata": {
        "id": "LB9TN5GKEyhw"
      },
      "source": [
        "# Data Exploration 01\n",
        "\n",
        "A consumer watchdog group wants to see if Netflix has more movies for adults or children.\n",
        "\n",
        "Using a dataset containing metadata for all of the movies Netflix had available on their platform in 2019, we'll use the MPAA movie rating system to determine if they are correct.\n",
        "\n",
        "## MPAA Movie Ratings:\n",
        "* G: All ages admitted.\n",
        "* PG: Some material may not be suitable for children.\n",
        "* PG-13: Some material may be inappropriate for children under 13.\n",
        "* R: Under 17 requires accompanying parent or adult guardian\n",
        "* NC-17: No One 17 and Under Admitted\n",
        "\n",
        "Most people would consider G and PG as ratings suitable for children. However, not everyone would agree that a PG-13 movie is necssarily a children's movie. It is up to you to decide how to handle this."
      ]
    },
    {
      "cell_type": "markdown",
      "metadata": {
        "id": "agqlq8RKFbry"
      },
      "source": [
        "## Part 1: Import Pandas\n",
        "\n",
        "The `pandas library` is a python library used for data analysis and manipulation. It will provide the core functionality for most of what you do in the data exploration and preprocessing stages of most machine learning projects.\n",
        "\n",
        "Please see [this Getting Started Guide](https://pandas.pydata.org/docs/getting_started/intro_tutorials/01_table_oriented.html) for information on the conventional way to import Pandas into your project, as well as other helpful tips for common Pandas tasks.\n"
      ]
    },
    {
      "cell_type": "code",
      "execution_count": 3,
      "metadata": {
        "id": "14b9y6LKEvEm",
        "vscode": {
          "languageId": "python"
        }
      },
      "outputs": [],
      "source": [
        "# Part 1: Enter the code below to import Pandas according to the\n",
        "# conventional method.\n",
        "import pandas as pd"
      ]
    },
    {
      "cell_type": "markdown",
      "metadata": {
        "id": "q-O80D5JH9yA"
      },
      "source": [
        "## Part 2: Load the data\n",
        "\n",
        "The dataset for this exploration is stored at the following url:\n",
        "\n",
        "[https://raw.githubusercontent.com/byui-cse/cse450-course/master/data/netflix_titles.csv](https://raw.githubusercontent.com/byui-cse/cse450-course/master/data/netflix_titles.csv)\n",
        "\n",
        "There are lots of ways to load data into your workspace. The easiest way in this case is to [ask Pandas to do it for you](https://pandas.pydata.org/docs/getting_started/intro_tutorials/02_read_write.html).\n",
        "\n",
        "### Initial Data Analysis\n",
        "Once you've loaded the data, it's a good idea to poke around a little bit to find out what you're dealing with.\n",
        "\n",
        "Some questions you might ask include:\n",
        "\n",
        "* What does the data look like?\n",
        "* What kind of data is in each column?\n",
        "* Do any of the columns have missing values?"
      ]
    },
    {
      "cell_type": "code",
      "execution_count": 9,
      "metadata": {
        "id": "AMKxXySGJVnC",
        "vscode": {
          "languageId": "python"
        }
      },
      "outputs": [],
      "source": [
        "# Part 2: Load the dataset into a Pandas dataframe.\n",
        "import pandas as pd\n",
        "\n",
        "url = \"https://raw.githubusercontent.com/byui-cse/cse450-course/master/data/netflix_titles.csv\"\n",
        "netflix_data = pd.read_csv(url)\n"
      ]
    },
    {
      "cell_type": "code",
      "execution_count": 7,
      "metadata": {
        "id": "1TFtbTIVAYJ-",
        "vscode": {
          "languageId": "python"
        },
        "colab": {
          "base_uri": "https://localhost:8080/"
        },
        "outputId": "7c9a2619-3fc3-45cb-f274-b7152b87e12f"
      },
      "outputs": [
        {
          "output_type": "stream",
          "name": "stdout",
          "text": [
            "    show_id     type                                    title  \\\n",
            "0  81145628    Movie  Norm of the North: King Sized Adventure   \n",
            "1  80117401    Movie               Jandino: Whatever it Takes   \n",
            "2  70234439  TV Show                       Transformers Prime   \n",
            "3  80058654  TV Show         Transformers: Robots in Disguise   \n",
            "4  80125979    Movie                             #realityhigh   \n",
            "\n",
            "                   director  \\\n",
            "0  Richard Finn, Tim Maltby   \n",
            "1                       NaN   \n",
            "2                       NaN   \n",
            "3                       NaN   \n",
            "4          Fernando Lebrija   \n",
            "\n",
            "                                                cast  \\\n",
            "0  Alan Marriott, Andrew Toth, Brian Dobson, Cole...   \n",
            "1                                   Jandino Asporaat   \n",
            "2  Peter Cullen, Sumalee Montano, Frank Welker, J...   \n",
            "3  Will Friedle, Darren Criss, Constance Zimmer, ...   \n",
            "4  Nesta Cooper, Kate Walsh, John Michael Higgins...   \n",
            "\n",
            "                                    country         date_added  release_year  \\\n",
            "0  United States, India, South Korea, China  September 9, 2019          2019   \n",
            "1                            United Kingdom  September 9, 2016          2016   \n",
            "2                             United States  September 8, 2018          2013   \n",
            "3                             United States  September 8, 2018          2016   \n",
            "4                             United States  September 8, 2017          2017   \n",
            "\n",
            "     rating  duration                           listed_in  \\\n",
            "0     TV-PG    90 min  Children & Family Movies, Comedies   \n",
            "1     TV-MA    94 min                     Stand-Up Comedy   \n",
            "2  TV-Y7-FV  1 Season                            Kids' TV   \n",
            "3     TV-Y7  1 Season                            Kids' TV   \n",
            "4     TV-14    99 min                            Comedies   \n",
            "\n",
            "                                         description  \n",
            "0  Before planning an awesome wedding for his gra...  \n",
            "1  Jandino Asporaat riffs on the challenges of ra...  \n",
            "2  With the help of three human allies, the Autob...  \n",
            "3  When a prison ship crash unleashes hundreds of...  \n",
            "4  When nerdy high schooler Dani finally attracts...  \n"
          ]
        }
      ],
      "source": [
        "# Then, explore the data by seeing what the first few rows look like.\n",
        "print(netflix_data.head())\n"
      ]
    },
    {
      "cell_type": "code",
      "execution_count": 8,
      "metadata": {
        "id": "GcL5zb6kAYc7",
        "vscode": {
          "languageId": "python"
        },
        "colab": {
          "base_uri": "https://localhost:8080/"
        },
        "outputId": "64fe6fff-b27b-446e-eea1-f92086b7d923"
      },
      "outputs": [
        {
          "output_type": "stream",
          "name": "stdout",
          "text": [
            "<class 'pandas.core.frame.DataFrame'>\n",
            "RangeIndex: 6234 entries, 0 to 6233\n",
            "Data columns (total 12 columns):\n",
            " #   Column        Non-Null Count  Dtype \n",
            "---  ------        --------------  ----- \n",
            " 0   show_id       6234 non-null   int64 \n",
            " 1   type          6234 non-null   object\n",
            " 2   title         6234 non-null   object\n",
            " 3   director      4265 non-null   object\n",
            " 4   cast          5664 non-null   object\n",
            " 5   country       5758 non-null   object\n",
            " 6   date_added    6223 non-null   object\n",
            " 7   release_year  6234 non-null   int64 \n",
            " 8   rating        6224 non-null   object\n",
            " 9   duration      6234 non-null   object\n",
            " 10  listed_in     6234 non-null   object\n",
            " 11  description   6234 non-null   object\n",
            "dtypes: int64(2), object(10)\n",
            "memory usage: 584.6+ KB\n",
            "None\n",
            "\n",
            "Missing data count per column:\n",
            "show_id            0\n",
            "type               0\n",
            "title              0\n",
            "director        1969\n",
            "cast             570\n",
            "country          476\n",
            "date_added        11\n",
            "release_year       0\n",
            "rating            10\n",
            "duration           0\n",
            "listed_in          0\n",
            "description        0\n",
            "dtype: int64\n"
          ]
        }
      ],
      "source": [
        "# Next, display a technical summary of the data to determine the data types of each column, and which columns have missing data.\n",
        "print(netflix_data.info())\n",
        "print(\"\\nMissing data count per column:\")\n",
        "print(netflix_data.isnull().sum())\n"
      ]
    },
    {
      "cell_type": "markdown",
      "metadata": {
        "id": "CqdAa4EfJ9T0"
      },
      "source": [
        "## Part 3: Filter the Data\n",
        "\n",
        "Since we're just interested in movies, we'll need to [filter out anything](https://pandas.pydata.org/docs/getting_started/intro_tutorials/03_subset_data.html) that isn't a movie for our analysis. The `type` feature contains this information.\n",
        "\n",
        "Once we have the subset, we should see how many rows it contains. There are a [variety of ways to get the length of a data frame](https://stackoverflow.com/a/38025280/28106)."
      ]
    },
    {
      "cell_type": "code",
      "execution_count": null,
      "metadata": {
        "id": "i8wdC-qpPjqF",
        "vscode": {
          "languageId": "python"
        }
      },
      "outputs": [],
      "source": [
        "# Use pandas's filtering abilitites to select the subset of data\n",
        "# that represents movies, then calculate how many rows are in the filtered data.\n"
      ]
    },
    {
      "cell_type": "markdown",
      "source": [],
      "metadata": {
        "id": "VVti9k5zvOEl"
      }
    },
    {
      "cell_type": "markdown",
      "metadata": {
        "id": "sxWEVnHyVV8c"
      },
      "source": [
        "### MPAA Ratings\n",
        "Now that we have only movies, let's get a [quick count of the values being used](https://pandas.pydata.org/docs/getting_started/intro_tutorials/06_calculate_statistics.html)  in the `rating` feature."
      ]
    },
    {
      "cell_type": "code",
      "execution_count": null,
      "metadata": {
        "id": "bH4pNyeVVx0R",
        "vscode": {
          "languageId": "python"
        }
      },
      "outputs": [],
      "source": [
        "# Determine the number of records for each value of the \"rating\" feature.\n",
        "# Remember to count the values in your subset only, not in the original dataframe.\n"
      ]
    },
    {
      "cell_type": "markdown",
      "metadata": {
        "id": "81bBg3tbV_5s"
      },
      "source": [
        "### More Filtering\n",
        "\n",
        "There are apparently some \"made for TV\" movies in the list that don't fit the\n",
        "MPAA rating scheme.\n",
        "\n",
        "Let's [filter some more](https://pandas.pydata.org/docs/getting_started/intro_tutorials/03_subset_data.html) to just see movies rated with the standard MPAA ratings of G, PG, PG-13, R, and NC-17."
      ]
    },
    {
      "cell_type": "code",
      "execution_count": null,
      "metadata": {
        "id": "kQmlZqO5Wb_N",
        "vscode": {
          "languageId": "python"
        }
      },
      "outputs": [],
      "source": [
        "# Filter the list of movies to select a new subset containing only movies with\n",
        "# a standard MPAA rating. Calculate how many rows are in this new set, and\n",
        "# then see which ratings appear most often.\n"
      ]
    },
    {
      "cell_type": "markdown",
      "metadata": {
        "id": "cl30h29pWp26"
      },
      "source": [
        "## Part 4: Visualization\n",
        "Now that we have explored and preprocessed our data, let's create a visualization to summarize our findings.\n",
        "\n",
        "### Exploration vs Presentation\n",
        "Broadly speaking, there are two types of visualizations:\n",
        "* Barebones visualizations you might use to get a quick, visual understanding of the data while you're trying to decide how it all fits together.\n",
        "* Presentation-quality visualizations that you would include in a report or presentation for management or other stakeholders.\n",
        "\n",
        "### Visualization Tools\n",
        "There are many different visualization tools availble. In the sections below,\n",
        "we'll explore the three most common. Each of these libraries has strengths and weaknesses.\n",
        "\n",
        "It is probably a good idea for you to become familiar with each one, and then become proficient at whichever one you like the best."
      ]
    },
    {
      "cell_type": "markdown",
      "metadata": {
        "id": "ebhKz6g9DmRE"
      },
      "source": [
        "### Altair\n",
        "The Altair visualization library provides a large variety of very easy to use statistical charting tools.\n",
        "\n",
        "Altair uses a declarative language to build up charts piece by piece.\n",
        "\n",
        "Assume we have a pandas dataframe called `employees`, with three columns: `name`, `job`, `salary`.\n",
        "\n",
        "    # Make a box plot style categorical plot showing the distribution of salaries for each job:\n",
        "    alt.Chart(employees).mark_boxplot().encode(\n",
        "        x='job',\n",
        "        y='salary'\n",
        "    )\n",
        "\n",
        "    # Make a box plot style categorical plot, and customize the results\n",
        "    alt.Chart(employees).mark_boxplot().encode(\n",
        "        alt.X('job', title='Job title'),\n",
        "        alt.Y('salary', title='Annual salary in thousands of $USD')\n",
        "    ).properties(\n",
        "      title='Salaries by Job Title'\n",
        "    )"
      ]
    },
    {
      "cell_type": "markdown",
      "metadata": {
        "id": "kOVsR0WCIm-L"
      },
      "source": [
        "Like with Pandas, there is a [conventional way to import Altair](https://altair-viz.github.io/getting_started/starting.html#the-chart-object) into your projects."
      ]
    },
    {
      "cell_type": "code",
      "execution_count": null,
      "metadata": {
        "id": "mYmVEExwD9O9",
        "vscode": {
          "languageId": "python"
        }
      },
      "outputs": [],
      "source": [
        "# Import the Altair library the conventional way.\n"
      ]
    },
    {
      "cell_type": "markdown",
      "metadata": {
        "id": "IAw61g-CD-Je"
      },
      "source": [
        "Let's create a barchart showing the count of each movie rating by using Altair's aggregation capabilities.\n",
        "\n",
        "In [this example](https://altair-viz.github.io/getting_started/starting.html#data-transformation-aggregation), we see the x axis being set to a feature called `a`, and the y axis set to the `average()` of a feature called `b`.\n",
        "\n",
        "In our case, we want the x axis to be set to `rating` and the y axis to be the `count()` of `rating`."
      ]
    },
    {
      "cell_type": "code",
      "execution_count": null,
      "metadata": {
        "id": "lixpX9B-EEQS",
        "vscode": {
          "languageId": "python"
        }
      },
      "outputs": [],
      "source": [
        "# Use Altair to create a bar chart comparing the count of each movie rating\n"
      ]
    },
    {
      "cell_type": "markdown",
      "metadata": {
        "id": "z4Uz_X1QDivG"
      },
      "source": [
        "\n",
        "### Seaborn\n",
        "While Altair uses a \"declarative\" syntax for building charts piece by piece, the Seaborn library provides a large variety of pre-made charts for common statistical needs.\n",
        "\n",
        "These charts are divided into different categories. Each category has a high-level interface you can use for simplicity, and then a specific function for each chart that you can use if you need more control over how the chart looks.\n",
        "\n",
        "Seaborn uses matplotlib for its drawing, and the chart-specific functions each return a matplitlib axes object if you need additional customization.\n",
        "\n",
        "For example, there are several different types of categorical plots in seaborn: bar plots, box plots, point plots, count plots, swarm plots, etc...\n",
        "\n",
        "Each of these plots can be accessed using the `catplot` function.\n",
        "\n",
        "Assume we have a pandas dataframe called `employees`, with three columns: `name`, `job`, `salary`.\n",
        "\n",
        "    # Make a box plot style categorical plot showing the distribution of salaries for each job:\n",
        "    sns.catplot(data=employees, x='job', y='salary', kind='box')\n",
        "\n",
        "    # Make a swarm plot style categorical plot\n",
        "    sns.catplot(data=employees, x='job', y='salary', kind='swarm')\n",
        "\n",
        "Alternatively, you can use the plot specific functions to give yourself more control over the output by using matplotlib functions:\n",
        "\n",
        "    # Make a box plot style categorical plot, and customize the results\n",
        "    import matplotlib.pyplot as plt\n",
        "\n",
        "    plt.figure(figsize=(12, 9))\n",
        "    ax = sns.boxplot(data=employees, x='job', y='salary')\n",
        "    ax.set_title(\"Salaries by Job Title\")\n",
        "    ax.set_ylabel(\"Annual salary in thousands of $USD\")\n",
        "    ax.set_xlabel(\"Job title\")\n",
        "    "
      ]
    },
    {
      "cell_type": "markdown",
      "metadata": {
        "id": "fW3CV6KTIcxb"
      },
      "source": [
        "Like with Pandas, there is a [conventional way to import Seaborn](https://seaborn.pydata.org/tutorial/relational.html) into your projects.\n",
        "\n",
        "Optionally, you may wish to set some default chart aesthetics by [setting the chart style](https://seaborn.pydata.org/tutorial/aesthetics.html)."
      ]
    },
    {
      "cell_type": "code",
      "execution_count": null,
      "metadata": {
        "id": "6UZKj1yMXTYg",
        "vscode": {
          "languageId": "python"
        }
      },
      "outputs": [],
      "source": [
        "# Import the seaborn library the conventional way. Then optionally configure\n",
        "# the default chart style.\n"
      ]
    },
    {
      "cell_type": "markdown",
      "metadata": {
        "id": "AWlh7ipsXaYM"
      },
      "source": [
        "Since the `rating` column uses categorical data, we need to use Seaborn's [categorical visualizations](https://seaborn.pydata.org/tutorial/categorical.html).\n",
        "\n",
        "In particular, we want a \"count plot\" that will display a count of movie ratings.\n",
        "\n"
      ]
    },
    {
      "cell_type": "code",
      "execution_count": null,
      "metadata": {
        "id": "-T6xRLvAYJIf",
        "vscode": {
          "languageId": "python"
        }
      },
      "outputs": [],
      "source": [
        "# Use seaborn to create a count plot comparing the count of each movie rating\n"
      ]
    },
    {
      "cell_type": "markdown",
      "metadata": {
        "id": "HWUrbz38L_1X"
      },
      "source": [
        "### Pandas built-in plotting\n",
        "In addition to libraries like Altair and Seaborn, Pandas has some [built in charting functionality](https://pandas.pydata.org/docs/getting_started/intro_tutorials/04_plotting.html).\n",
        "\n",
        "While not as sophisticated as some of the other options, it is often good enough for quick visualizations.\n",
        "\n",
        "Just like with seaborn's plotting functions, the pandas plotting functions return matplotlib axes objects, which can be further customized.\n",
        "\n",
        "Assume we have a pandas dataframe called `employees`, with three columns: `name`, `job`, `salary`.\n",
        "\n",
        "    # Make a box plot style categorical plot showing the distribution of salaries for each job:\n",
        "    employees[ ['job','salary'] ].plot.box()\n",
        "\n",
        "    # Make a box plot style categorical plot, and customize the results\n",
        "    import matplotlib.pyplot as plt\n",
        "\n",
        "    plt.figure(figsize=(12, 9))\n",
        "    ax = employees[ ['job','salary'] ].plot().box()\n",
        "    ax.set_title(\"Salaries by Job Title\")\n",
        "    ax.set_ylabel(\"Annual salary in thousands of $USD\")\n",
        "    ax.set_xlabel(\"Job title\")\n"
      ]
    },
    {
      "cell_type": "code",
      "execution_count": null,
      "metadata": {
        "id": "Y0PW4s0LNjld",
        "vscode": {
          "languageId": "python"
        }
      },
      "outputs": [],
      "source": [
        "# Use pandas' built in plotting functions to create a count plot comparing the count of each movie rating\n",
        "# This will be a little trickier than the other libraries, but one hint is that the pandas value_counts() function\n",
        "# actually returns a dataframe.\n"
      ]
    },
    {
      "cell_type": "markdown",
      "metadata": {
        "id": "7EA2lAfbYRAc"
      },
      "source": [
        "# Part 5: Interpretation and Conclusions\n",
        "\n",
        "Now that you've seen the data, what is your conclusion? Is the watchdog group\n",
        "correct that Netflix has more movies for adults than for children? Are there any\n",
        "caveats you'd include in your analysis?"
      ]
    },
    {
      "cell_type": "markdown",
      "metadata": {
        "id": "EMBvHrExYr24"
      },
      "source": [
        "Write your summary here:\n",
        "\n",
        "\n"
      ]
    },
    {
      "cell_type": "markdown",
      "metadata": {
        "id": "3tOuwFOZYvVP"
      },
      "source": [
        "## 🌟 Above and Beyond 🌟\n",
        "\n",
        "After reviewing your findings, the watchdog group would like some additional questions answered:\n",
        "\n",
        "1. How are things affected if you include the \"made for TV movies\" that have been assigned [TV ratings](https://en.wikipedia.org/wiki/Television_content_rating_system#United_States) in your analysis, but still exclude unrated movies?\n",
        "\n",
        "2. They would also like to see a separate report that includes only TV shows.\n",
        "\n",
        "3. For an upcoming community meeting, the group would like to present a simple\n",
        "chart showing \"For Kids\" and \"For Adults\" categories. The easiest way to accomplish this would be to [create a new column in your data frame that maps](https://pandas.pydata.org/docs/getting_started/intro_tutorials/10_text_data.html) each rating to the appropriate \"For Kids\" or \"For Adults\" label, then create a new visualization based on that column."
      ]
    }
  ],
  "metadata": {
    "colab": {
      "name": "Exploration-01.ipynb",
      "provenance": [],
      "toc_visible": true
    },
    "kernelspec": {
      "display_name": "Python 3",
      "name": "python3"
    }
  },
  "nbformat": 4,
  "nbformat_minor": 0
}